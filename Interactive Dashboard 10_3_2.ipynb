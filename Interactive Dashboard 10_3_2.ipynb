{
 "cells": [
  {
   "cell_type": "code",
   "execution_count": 1,
   "id": "8e185562",
   "metadata": {},
   "outputs": [],
   "source": [
    "# Import required libraries\n",
    "import pandas as pd\n",
    "import dash\n",
    "from dash import html\n",
    "from dash import dcc\n",
    "from dash.dependencies import Input, Output\n",
    "import plotly.express as px"
   ]
  },
  {
   "cell_type": "code",
   "execution_count": 2,
   "id": "329ebca4",
   "metadata": {},
   "outputs": [],
   "source": [
    "# Read the airline data into pandas dataframe\n",
    "spacex_df = pd.read_csv(\"spacex_launch_dash.csv\")\n",
    "max_payload = spacex_df['Payload Mass (kg)'].max()\n",
    "min_payload = spacex_df['Payload Mass (kg)'].min()\n"
   ]
  },
  {
   "cell_type": "code",
   "execution_count": null,
   "id": "2be7c764",
   "metadata": {},
   "outputs": [],
   "source": [
    "# Create a dash application\n",
    "app = dash.Dash(__name__)\n",
    "\n",
    "# Create an app layout\n",
    "app.layout = html.Div(children=[html.H1('SpaceX Launch Records Dashboard',\n",
    "                                        style={'textAlign': 'center', 'color': '#503D36',\n",
    "                                               'font-size': 40}),\n",
    "                                # TASK 1: Add a dropdown list to enable Launch Site selection\n",
    "                                # The default select value is for ALL sites\n",
    "                                # dcc.Dropdown(id='site-dropdown',...)\n",
    "                                dcc.Dropdown(id='site-dropdown',\n",
    "                                             options=[{'label': 'All Sites', 'value': 'ALL'},\n",
    "                                                      {'label': 'CCAFS LC-40', 'value': 'CCAFS LC-40'},\n",
    "                                                      {'label':'CCAFS SLC-40','value':'CCAFS SLC-40'},\n",
    "                                                      {'label':'KSC LC-39A','value':'KSC LC-39A'},\n",
    "                                                      {'label':'VAFB SLC-4E','value':'VAFB SLC-4E'},\n",
    "                                                     ],\n",
    "                                             value='ALL',\n",
    "                                             placeholder=\"Select Launch Site here\",\n",
    "                                             searchable=True\n",
    "                                            ),\n",
    "                                ##for the drop down,i kept value and label the same so callback function is simple\n",
    "                                html.Br(),\n",
    "                                # TASK 2: Add a pie chart to show the total successful launches count for all sites\n",
    "                \n",
    "                                # Function decorator to specify function input and output\n",
    "\n",
    "                                # If a specific launch site was selected, show the Success vs. Failed counts for the site\n",
    "                                html.Div(dcc.Graph(id='success-pie-chart')),\n",
    "                                html.Br(),\n",
    "\n",
    "                                html.P(\"Payload range (Kg):\"),\n",
    "                                # TASK 3: Add a slider to select payload range\n",
    "                                #dcc.RangeSlider(id='payload-slider',...)\n",
    "                                dcc.RangeSlider(id='payload-slider',min=0, max=10000, step=1000,\n",
    "                                                marks={0: '0',\n",
    "                                                       1000: '1000',\n",
    "                                                       2000: '2000',\n",
    "                                                       3000: '3000',\n",
    "                                                       4000: '4000',\n",
    "                                                      5000: '5000',\n",
    "                                                       6000: '6000',\n",
    "                                                      7000: '7000',\n",
    "                                                       8000: '8000',\n",
    "                                                       9000: '9000',\n",
    "                                                      10000:'10000'},\n",
    "                                                value=[min_payload, max_payload]),\n",
    "\n",
    "                                # TASK 4: Add a scatter chart to show the correlation between payload and launch success\n",
    "                                html.Div(dcc.Graph(id='success-payload-scatter-chart')),\n",
    "                                ])\n",
    "# TASK 2:\n",
    "# Add a callback function for `site-dropdown` as input, `success-pie-chart` as output\n",
    "# Function decorator to specify function input and output\n",
    "@app.callback( Output(component_id='success-pie-chart', component_property='figure'),\n",
    "              Input(component_id='site-dropdown', component_property='value'))\n",
    "def get_pie_chart(entered_site):\n",
    "    filtered_df = spacex_df\n",
    "    if entered_site == 'ALL':\n",
    "        fig = px.pie(spacex_df, values='class', \n",
    "        names='Launch Site', \n",
    "        title='Total Successful Launches Of All Launch Sites')\n",
    "        return fig\n",
    "    else:\n",
    "        fig=px.pie(spacex_df[spacex_df['Launch Site']==entered_site],\n",
    "                   names='class')\n",
    "        return fig\n",
    "            \n",
    "        \n",
    "# TASK 4:\n",
    "# Add a callback function for `site-dropdown` and `payload-slider` as inputs, `success-payload-scatter-chart` as output\n",
    "@app.callback(Output(component_id='success-payload-scatter-chart', component_property='figure'),\n",
    "              [Input(component_id='site-dropdown', component_property='value'),\n",
    "               Input(component_id='payload-slider', component_property='value')])\n",
    "def get_scatter_chart(site_dropdown, payload_slider):\n",
    "    spacex_df1=spacex_df[spacex_df[\"Payload Mass (kg)\"].between(payload_slider[0],payload_slider[1])]\n",
    "    if site_dropdown=='ALL':\n",
    "        fig=px.scatter(spacex_df1,x=\"Payload Mass (kg)\",y=\"class\",color=\"Booster Version Category\")\n",
    "        return fig\n",
    "    else:\n",
    "        fig=px.scatter(spacex_df1[spacex_df1[\"Launch Site\"]== site_dropdown],\n",
    "                       x=\"Payload Mass (kg)\",y=\"class\",color=\"Booster Version Category\")\n",
    "        return fig\n",
    "\n",
    "# Run the app\n",
    "if __name__ == '__main__':\n",
    "    app.run_server(debug=False)\n"
   ]
  },
  {
   "cell_type": "code",
   "execution_count": null,
   "id": "097b2fba",
   "metadata": {},
   "outputs": [],
   "source": [
    "spacex_df1=spacex_df[spacex_df[\"Payload Mass (kg)\"].between(2500,7500)]\n",
    "spacex_df1"
   ]
  },
  {
   "cell_type": "markdown",
   "id": "d0e050a4",
   "metadata": {},
   "source": [
    "**Finding Insights Visually**\n",
    "\n",
    "Now with the dashboard completed, you should be able to use it to analyze SpaceX launch data, and answer the following questions:\n",
    "\n",
    "- Which site has the largest successful launches?\n",
    "- Which site has the highest launch success rate?\n",
    "- Which payload range(s) has the highest launch success rate?\n",
    "- Which payload range(s) has the lowest launch success rate?\n",
    "- Which F9 Booster version (v1.0, v1.1, FT, B4, B5, etc.) has the highest launch success rate?"
   ]
  },
  {
   "cell_type": "markdown",
   "id": "e54011c3",
   "metadata": {},
   "source": [
    "- Launch Site 'KSC LC-39A' has the largest successful launches making 41.7%(10 Launches) of the total successful launches.\n",
    "- Launch Site 'KSC LC-39A' has the highest success rate at 76.9%.\n",
    "- Payload ranges 4600-5200kg and 3000-4000kg have the highest launch success rate\n",
    "- Payload ranges 6000-8000kg and 500-2000kg have the lowest launch success rate\n",
    "- Booster version B5 has the highest launch success rate."
   ]
  }
 ],
 "metadata": {
  "kernelspec": {
   "display_name": "Python 3 (ipykernel)",
   "language": "python",
   "name": "python3"
  },
  "language_info": {
   "codemirror_mode": {
    "name": "ipython",
    "version": 3
   },
   "file_extension": ".py",
   "mimetype": "text/x-python",
   "name": "python",
   "nbconvert_exporter": "python",
   "pygments_lexer": "ipython3",
   "version": "3.9.7"
  }
 },
 "nbformat": 4,
 "nbformat_minor": 5
}
